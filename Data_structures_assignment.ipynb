{
  "nbformat": 4,
  "nbformat_minor": 0,
  "metadata": {
    "colab": {
      "provenance": []
    },
    "kernelspec": {
      "name": "python3",
      "display_name": "Python 3"
    },
    "language_info": {
      "name": "python"
    }
  },
  "cells": [
    {
      "cell_type": "markdown",
      "source": [
        "**Theoritical Questions**\n"
      ],
      "metadata": {
        "id": "BhBZkUoewcNk"
      }
    },
    {
      "cell_type": "markdown",
      "source": [
        "1) What are data structures, and why are they important?\n",
        " - Data structures in python are methods to store the data in organizing order for accessing and manipulating the data efficiently.\n",
        " - Below are the methods of data structures:\n",
        "  - 1)Strings\n",
        "  - 2)Lists\n",
        "  - 3)tuples\n",
        "  - 4)Sets\n",
        "  - 5)Dictionary"
      ],
      "metadata": {
        "id": "ztxSn4SmwwOk"
      }
    },
    {
      "cell_type": "code",
      "source": [
        "# 2) Explain the difference between mutable and immutable data types with examples?\n",
        "\"\"\"\n",
        "- mutable datatypes: here in this category we can modify/change the data to our data sets by using different built-in functions or indexing.\n",
        "- examples of mutable data types are: sets,lists,dictionary.\n",
        "\n",
        "--> immutable data types: in this category we cannot modify/change the data in the object here hash value is always stable.\n",
        "- examples of immutable data types are: Tuples,strings.\n",
        "\n",
        "\"\"\"\n",
        "#example for mutable data type\n",
        "lis=[1,2,3]\n",
        "lis.append(4) # here we are adding one new element to the object lis.\n",
        "print(lis)\n",
        "\n",
        "#--------------#\n",
        "\n",
        "#example for Immutable data type\n",
        "string1=\"pwskills\"\n",
        "# string1[1]=\"s\" --> here we will get the error like 'str' object does not support item assignment because they are immutable same as like tuples\n",
        "print(string1)\n"
      ],
      "metadata": {
        "colab": {
          "base_uri": "https://localhost:8080/"
        },
        "id": "DfALGNXK0qyS",
        "outputId": "6c27596a-a559-4a20-a4dd-8f8bbb679ae9"
      },
      "execution_count": null,
      "outputs": [
        {
          "output_type": "stream",
          "name": "stdout",
          "text": [
            "[1, 2, 3, 4]\n",
            "pwskills\n"
          ]
        }
      ]
    },
    {
      "cell_type": "markdown",
      "source": [
        "3) What are the main differences between lists and tuples in Python?\n",
        "- Lists are mutable whereas, tuples are immutable\n",
        "- in lists we can modify the data because they are mutable in nature and it supports item assignment\n",
        "- in tuples we cannot modify the data because they are immutable in nature and it does not supports item assignment\n"
      ],
      "metadata": {
        "id": "nw7PFuJP2v74"
      }
    },
    {
      "cell_type": "markdown",
      "source": [
        "4) Describe how dictionaries store data?\n",
        "- Dictionaries store data in the form of key value (key:value) pairs. and it's represented as {}.\n",
        "- eg: person_info={\"name\":\"moulali\",\"age\":25\",city\":\"Guntur\"}"
      ],
      "metadata": {
        "id": "zQYqcTKn3UOi"
      }
    },
    {
      "cell_type": "markdown",
      "source": [
        "5) Why might you use a set instead of a list in Python?\n",
        "- see, in lists we can store data which are non-unique also so,here in lists duplicates also will be there.\n",
        "- so i will go with sets when i want unique collection of items so that in my data set i should not have duplicates elements."
      ],
      "metadata": {
        "id": "6ggiw5wD3_p0"
      }
    },
    {
      "cell_type": "markdown",
      "source": [
        "6) What is a string in Python, and how is it different from a list?\n",
        "- A string in python is a immutable sequence of characters enclosed within a double,single and triple quotes(\" \" or ' ') and it holds only character data which cannot be changed after it's created.\n",
        "- eg: string1=\"pwskills\"\n",
        "- in string we don't have a property like list where we can modify the data to the string object.\n",
        "- typically string contains only homogeneous data (no mixed data types only characters) where as in list it contains heterogeneous data it contains any data type inside it."
      ],
      "metadata": {
        "id": "z1V9u_574pwu"
      }
    },
    {
      "cell_type": "markdown",
      "source": [
        "7) How do tuples ensure data integrity in Python?\n",
        "- Tuples are immutable in nature hence once after we created we cannot alter the data set\n",
        "- since, tuples are cannot be altered their content remains same in the entire program execution.\n",
        "- whenever we want to store the unique data which should not be change in the future like(aadhar number,pan number,employee_id) we can go with tuples because once we created we cannot change the content\n",
        "- Only immutable types are hashable in Python. Because tuples are built-in immutable, they can function as dictionary keys or elements of a set, where consistency and fixed identity are essential"
      ],
      "metadata": {
        "id": "NxPIUvFg7a0E"
      }
    },
    {
      "cell_type": "markdown",
      "source": [
        "8) What is a hash table, and how does it relate to dictionaries in Python?\n",
        "- A hash table (also known as a hash map) is a specialized data structure for storing key–value pairs. It uses a hash function to compute a numeric hash code for a key, which determines the index (bucket) in an underlying array where the value is stored.\n",
        "- Python's built-in dict is an implementation of a hash table, specifically designed to behave like an associative array or mapping.\n",
        "- When we perform d[key] = value, Python internally computes hash(key) and uses that value to locate the appropriate bucket."
      ],
      "metadata": {
        "id": "tE2sq52P9eu5"
      }
    },
    {
      "cell_type": "markdown",
      "source": [
        "9) Can lists contain different data types in Python?\n",
        "- Yes, lists contain any type of data because they are heterogeneous.\n",
        "- lists are unordered collection of items with heterogeneous data.\n",
        "- eg: lis=[\"shaik moulali\",\"asif\",1,2.3,True]"
      ],
      "metadata": {
        "id": "XJiZisH0BCbF"
      }
    },
    {
      "cell_type": "markdown",
      "source": [
        "10) Explain why strings are immutable in Python?\n",
        "- strings, once created we cannot change the elements in the object.\n",
        "- Immutable objects have a stable hash value. If strings could change, they would break hash-based data structures like dictionaries so they should be immutable.\n"
      ],
      "metadata": {
        "id": "a6YICINMBpJj"
      }
    },
    {
      "cell_type": "markdown",
      "source": [
        "11)  What advantages do dictionaries offer over lists for certain tasks?\n",
        "- Dictionaries can allows us to take the values fastly by using unique keys based on hash table implementation. if we are having a large dataset also we can retrieve the values very fastly and efficiently by using unique keys in dictionaries. while as in list interpreter will check each and every element for the values so here data retrieval might be slow in lists.\n",
        "- in dictionaries each key must be unique (values can be duplicate) through this facility in dictionary they prevent duplicates records and maintain data integrity. while as in lists if elements are duplicate can lead to ambiguity when identifying an item."
      ],
      "metadata": {
        "id": "4mHSAPn3QWID"
      }
    },
    {
      "cell_type": "markdown",
      "source": [
        "12)  Describe a scenario where using a tuple would be preferable over a list?\n",
        "- Using a tuple is preferable over a list when we need to store data that should remain constant and unchangeable throughout the program. Tuples are immutable, meaning once they are created, their elements cannot be modified, added, or removed. This immutability ensures data integrity and can lead to performance optimizations.\n",
        "- when dealing with data that should remain constant and unaltered, such as personal identifiers, using a tuple is the appropriate choice in Python programming\n",
        " - example: Aadhar number,pan number, emp_id"
      ],
      "metadata": {
        "id": "Z2rjECjsTIzi"
      }
    },
    {
      "cell_type": "markdown",
      "source": [
        "13)  How do sets handle duplicate values in Python?\n",
        "- In python, sets are automatically eliminate duplicate values because sets are unordered collection of unique elements only. if we are trying to add the duplicate values in the data set  python will not give any error but it eliminates the duplicate values automatically.\n",
        " - eg: {\"apple\",\"apple\",\"banana\",\"banana\",\"mango\"}\n",
        " - result: {\"apple\",\"banana\",\"mango\"}"
      ],
      "metadata": {
        "id": "fuSJbri_Umxw"
      }
    },
    {
      "cell_type": "markdown",
      "source": [
        "14)  How does the “in” keyword work differently for lists and dictionaries?\n",
        "- **IN with list**:\n",
        " - IN keyword: purpose is to check whether the value is present in the list or not.and it will search until the matching item finds.\n",
        "  - eg: a=[1,2,3,4]\n",
        "  - b=2\n",
        "  - if b in a:\n",
        "      - print(f\"{b} value is present in list a\")\n",
        "- **IN with dictionaries**:\n",
        "  - By default **IN** checks for keys not values and it look's for the key in dictionary based on hash table structure. if we want to check for values we should a.values() function.\n",
        "   - eg: a={\"name\":\"shaik moulali\",\"city\":\"guntur\"}\n",
        "   - b=\"name\"\n",
        "   - if b in a:\n",
        "      - print(f\"{b} key is present\")\n",
        "    - else:\n",
        "      - print(f\"{b} key is not present\")"
      ],
      "metadata": {
        "id": "3opY1-LBXRu_"
      }
    },
    {
      "cell_type": "markdown",
      "source": [
        "15) Can you modify the elements of a tuple? Explain why or why not?\n",
        "- No, we cannot modify the elements of a tuple because they are containing stable hash values meaning we cannot modify/add/remove the elements to the tuple due to the immutability in nature.\n",
        "- if we are attempting to change/modify the elements in tuple python interpretor will raise an error.\n",
        " - a=(1,2,3)\n",
        " - a[1]=5 # here we are attempting to change the value to 5 so we will get an error saying, item assignment is not supported here."
      ],
      "metadata": {
        "id": "aG8CMI0GeJTR"
      }
    },
    {
      "cell_type": "markdown",
      "source": [
        "16) What is a nested dictionary, and give an example of its use case?\n",
        "- A nested dictionary is simply a dictionary whose values includes other dictionaries This let's us organize data in a hierarchical, multi‑level structure. we can nest dictionaries as many levels we needed.\n",
        "- #Real-world use case example of student_info.\n",
        "-Students={\"student_1\":{\"name\":\"shaik moulali\",\"age\":25,\"city\":\"guntur\"},\n",
        "    \"student_2\":{\"name\":\"fazal\",\"age\":25,\"city\":\"Vizag\"},\n",
        "   \"student_3\":{\"name\":\"Imran\",\"age\":25,\"city\":\"Vijayawada\"}}\n",
        "-print(Students[\"student_1\"][\"age\"])"
      ],
      "metadata": {
        "id": "LtCQfRcaf3oh"
      }
    },
    {
      "cell_type": "code",
      "source": [
        "#Real-world use case example of student_info.\n",
        "Students={\"student_1\":{\"name\":\"shaik moulali\",\"age\":25,\"city\":\"guntur\"},\n",
        "    \"student_2\":{\"name\":\"fazal\",\"age\":25,\"city\":\"Vizag\"},\n",
        "   \"student_3\":{\"name\":\"Imran\",\"age\":25,\"city\":\"Vijayawada\"}}\n",
        "print(Students[\"student_1\"][\"age\"])\n"
      ],
      "metadata": {
        "colab": {
          "base_uri": "https://localhost:8080/"
        },
        "id": "gf4wt6elilgy",
        "outputId": "45f1ed95-e14e-44d0-d7bb-46d41674ee4c"
      },
      "execution_count": null,
      "outputs": [
        {
          "output_type": "stream",
          "name": "stdout",
          "text": [
            "25\n"
          ]
        }
      ]
    },
    {
      "cell_type": "markdown",
      "source": [
        "17) Describe the time complexity of accessing elements in a dictionary?\n",
        "- Python dictionaries uses a hash table whenever, we are accessing the value. for example:, value=d[\"name\"] python internally search for the key's hash value and find it's slot in constant time and it's average time is 0(1).\n",
        "- in rare cases while searching for the key's hash there might be having multiple keys and so in that time python will go and check the each key throughly and retrive it's value so here time might take 0(n). where n is number of items python is searching but this case case is extremely rare."
      ],
      "metadata": {
        "id": "RwlV5JHllGsc"
      }
    },
    {
      "cell_type": "markdown",
      "source": [
        "18) In what situations are lists preferred over dictionaries?\n",
        "- we can go with lists when we need order sequence of elements matters.like: first-come-first-served data\n",
        "- when we are frequently adding/appending and extending the data to the data set.\n",
        "- when we want to allow the duplicates regularly in order. but in dictionaries keys won't allow duplicates.\n",
        "- whenever we want to work with indexes and slicing then we have to go with list only whereas in dictionaries they don't Support Indexing by Position."
      ],
      "metadata": {
        "id": "80bGrB8PtAZR"
      }
    },
    {
      "cell_type": "markdown",
      "source": [
        "19) Why are dictionaries considered unordered, and how does that affect data retrieva1?\n",
        "- Before python 3.7 dictionaries are unordered so, while looping with functions like .get(key),.items() the retrieving values might not be in order and iteration will be unpredictable.\n",
        "- but, Python 3.7 and Later dictionaries are considered as order means when when we iterating with .get(key),.items(),.keys() the key,values we will get in order. but still we cannot access them with indexing if we are doing (D[0]) so, will get an error."
      ],
      "metadata": {
        "id": "C0oMfrCQvt58"
      }
    },
    {
      "cell_type": "markdown",
      "source": [
        "20) Explain the difference between a list and a dictionary in terms of data retrieval?\n",
        "- in list we will retrieve the data by using indexing or positioning of an element where as in dictionary we can access the value by using keys only.\n",
        "or with .get(key) method.\n",
        " - eg: a= [1,\"moulali\",\"apple\",2,3]\n",
        " - a[1] # -->'moulali' accessing the list by using indexing\n",
        "-  **example of data retrieval of dictionary**\n",
        " - a={\"name\"=\"ali\",\"age\"=25}\n",
        " - a[\"name\"]#--> here we should access the value only with key only."
      ],
      "metadata": {
        "id": "tOkUfdFMybr2"
      }
    },
    {
      "cell_type": "markdown",
      "source": [
        "**Practical Questions**"
      ],
      "metadata": {
        "id": "RUbGvX3HyoeV"
      }
    },
    {
      "cell_type": "code",
      "source": [
        "# 1) Write a code to create a string with your name and print it?\n",
        "\n",
        "name=\"shaik moulali\"\n",
        "print(name)"
      ],
      "metadata": {
        "colab": {
          "base_uri": "https://localhost:8080/"
        },
        "id": "rYSHBBNsyv5c",
        "outputId": "8b37b61f-cbdd-437a-a8c1-74281272e43c"
      },
      "execution_count": null,
      "outputs": [
        {
          "output_type": "stream",
          "name": "stdout",
          "text": [
            "shaik moulali\n"
          ]
        }
      ]
    },
    {
      "cell_type": "code",
      "source": [
        "# 2) Write a code to find the length of the string \"Hello World\"?\n",
        "\n",
        "str1=\"Hello World\"\n",
        "b=len(str1)\n",
        "print(b)"
      ],
      "metadata": {
        "colab": {
          "base_uri": "https://localhost:8080/"
        },
        "id": "u2EcOzQWzGJP",
        "outputId": "41dd697a-b701-4f23-a341-ae71bc318580"
      },
      "execution_count": null,
      "outputs": [
        {
          "output_type": "stream",
          "name": "stdout",
          "text": [
            "11\n"
          ]
        }
      ]
    },
    {
      "cell_type": "code",
      "source": [
        "# 3) Write a code to slice the first 3 characters from the string \"Python Programming\"?\n",
        "\n",
        "name=\"Python Programming\"\n",
        "slice1=name[0:3:1]\n",
        "print(slice1)\n"
      ],
      "metadata": {
        "colab": {
          "base_uri": "https://localhost:8080/"
        },
        "id": "bV9Ou5eszYWN",
        "outputId": "53da7d43-fbc1-4b3c-f96b-17a5847c5ac1"
      },
      "execution_count": null,
      "outputs": [
        {
          "output_type": "stream",
          "name": "stdout",
          "text": [
            "Pyt\n"
          ]
        }
      ]
    },
    {
      "cell_type": "code",
      "source": [
        "# 4) Write a code to convert the string \"hello\" to uppercase?\n",
        "\n",
        "str1=\"hello\"\n",
        "print(str1.upper())"
      ],
      "metadata": {
        "colab": {
          "base_uri": "https://localhost:8080/"
        },
        "id": "Bhk_2heBz8zT",
        "outputId": "5e237af2-8541-40f4-8f85-ce2e58e93dd7"
      },
      "execution_count": null,
      "outputs": [
        {
          "output_type": "stream",
          "name": "stdout",
          "text": [
            "HELLO\n"
          ]
        }
      ]
    },
    {
      "cell_type": "code",
      "source": [
        "# 5) Write a code to replace the word \"apple\" with \"orange\" in the string \"I like apple\"?\n",
        "\n",
        "str1=\"I like apple\"\n",
        "name=str1.replace(\"apple\",\"orange\")\n",
        "print(name)\n",
        "\n"
      ],
      "metadata": {
        "colab": {
          "base_uri": "https://localhost:8080/"
        },
        "id": "ID4xbjev0M5l",
        "outputId": "fc12060e-df91-4d40-bc3c-ebe30438cc9d"
      },
      "execution_count": null,
      "outputs": [
        {
          "output_type": "stream",
          "name": "stdout",
          "text": [
            "I like orange\n"
          ]
        }
      ]
    },
    {
      "cell_type": "code",
      "source": [
        "# 6)  Write a code to create a list with numbers 1 to 5 and print it?\n",
        "\n",
        "lis=[1,2,3,4,5]\n",
        "for i in lis:\n",
        "  lis1=print(i,end=' ')\n"
      ],
      "metadata": {
        "colab": {
          "base_uri": "https://localhost:8080/"
        },
        "id": "Qa_sER6e0oz1",
        "outputId": "cb469bb2-aa0b-4035-ad68-eac513b80f7b"
      },
      "execution_count": null,
      "outputs": [
        {
          "output_type": "stream",
          "name": "stdout",
          "text": [
            "1 2 3 4 5 "
          ]
        }
      ]
    },
    {
      "cell_type": "code",
      "source": [
        "# 7) Write a code to append the number 10 to the list [1, 2, 3, 4]?\n",
        "\n",
        "lis=[1, 2, 3, 4]\n",
        "lis.append(10)\n",
        "print(lis)\n",
        "\n"
      ],
      "metadata": {
        "colab": {
          "base_uri": "https://localhost:8080/"
        },
        "id": "w8yZKq3J1pi0",
        "outputId": "56eb676c-4c27-413a-9d91-4e9280d4a1e1"
      },
      "execution_count": null,
      "outputs": [
        {
          "output_type": "stream",
          "name": "stdout",
          "text": [
            "[1, 2, 3, 4, 10]\n"
          ]
        }
      ]
    },
    {
      "cell_type": "code",
      "source": [
        "# 8) Write a code to remove the number 3 from the list [1, 2, 3, 4, 5]?\n",
        "\n",
        "lis=[1, 2, 3, 4, 5]\n",
        "lis.remove(3)\n",
        "print(lis)"
      ],
      "metadata": {
        "colab": {
          "base_uri": "https://localhost:8080/"
        },
        "id": "WZLPPSi02Ips",
        "outputId": "fe34fbf6-f2b2-4487-db1a-3be7e9a55523"
      },
      "execution_count": null,
      "outputs": [
        {
          "output_type": "stream",
          "name": "stdout",
          "text": [
            "[1, 2, 4, 5]\n"
          ]
        }
      ]
    },
    {
      "cell_type": "code",
      "source": [
        "# 9) Write a code to access the second element in the list ['a', 'b', 'c', 'd']?\n",
        "\n",
        "lis=['a', 'b', 'c', 'd']\n",
        "b=lis[1]\n",
        "print(b)\n",
        "\n"
      ],
      "metadata": {
        "colab": {
          "base_uri": "https://localhost:8080/"
        },
        "id": "xX4ZMW2-2YtM",
        "outputId": "109d9fd9-0552-4e0d-856f-e584de70c7a8"
      },
      "execution_count": 90,
      "outputs": [
        {
          "output_type": "stream",
          "name": "stdout",
          "text": [
            "b\n"
          ]
        }
      ]
    },
    {
      "cell_type": "code",
      "source": [
        "# 10)  Write a code to reverse the list [10, 20, 30, 40, 50]?\n",
        "\n",
        "lis=[10, 20, 30, 40, 50]\n",
        "print(lis[::-1])"
      ],
      "metadata": {
        "colab": {
          "base_uri": "https://localhost:8080/"
        },
        "id": "5LVDevQD27Qt",
        "outputId": "271c29af-54d8-495b-bc46-624a999b2be5"
      },
      "execution_count": null,
      "outputs": [
        {
          "output_type": "stream",
          "name": "stdout",
          "text": [
            "[50, 40, 30, 20, 10]\n"
          ]
        }
      ]
    },
    {
      "cell_type": "code",
      "source": [
        "# 11) Write a code to create a tuple with the elements 100, 200, 300 and print it?\n",
        "\n",
        "tup=(100, 200, 300)\n",
        "print(tup)\n",
        "# or\n",
        "for i in tup:\n",
        "  print(i,end=' ')"
      ],
      "metadata": {
        "colab": {
          "base_uri": "https://localhost:8080/"
        },
        "id": "IDf6h_7l3eG8",
        "outputId": "93fcf746-54e5-4863-e679-6be4effc9a4d"
      },
      "execution_count": null,
      "outputs": [
        {
          "output_type": "stream",
          "name": "stdout",
          "text": [
            "(100, 200, 300)\n",
            "100 200 300 "
          ]
        }
      ]
    },
    {
      "cell_type": "code",
      "source": [
        "# 12)  Write a code to access the second-to-last element of the tuple ('red', 'green', 'blue', 'yellow')?\n",
        "\n",
        "tup=('red', 'green', 'blue', 'yellow')\n",
        "print(tup[-2])   # from last-to-second element\n",
        "print(tup[1:4])  #or print(tup[1:]) # from 2 element to last"
      ],
      "metadata": {
        "colab": {
          "base_uri": "https://localhost:8080/"
        },
        "id": "vWAVspa135Jo",
        "outputId": "73c98c43-9ac4-4211-fd13-1f4153b46123"
      },
      "execution_count": null,
      "outputs": [
        {
          "output_type": "stream",
          "name": "stdout",
          "text": [
            "blue\n",
            "('green', 'blue', 'yellow')\n"
          ]
        }
      ]
    },
    {
      "cell_type": "code",
      "source": [
        "# 13) Write a code to find the minimum number in the tuple (10, 20, 5, 15)?\n",
        "\n",
        "tup=(10, 20, 5, 15)\n",
        "minimum_number=min(tup)\n",
        "print(minimum_number)"
      ],
      "metadata": {
        "colab": {
          "base_uri": "https://localhost:8080/"
        },
        "id": "XfeF7yOQ42gp",
        "outputId": "26c8f29c-110a-4ab6-b74e-c240c8c92a4f"
      },
      "execution_count": null,
      "outputs": [
        {
          "output_type": "stream",
          "name": "stdout",
          "text": [
            "5\n"
          ]
        }
      ]
    },
    {
      "cell_type": "code",
      "source": [
        "# 14) Write a code to find the index of the element \"cat\" in the tuple ('dog', 'cat', 'rabbit')?\n",
        "\n",
        "tup=('dog', 'cat', 'rabbit')\n",
        "\n",
        "print(tup.index(\"cat\"))"
      ],
      "metadata": {
        "colab": {
          "base_uri": "https://localhost:8080/"
        },
        "id": "VhQikUbL6BTU",
        "outputId": "c45af524-fcad-4f66-bf77-8bbcd3adcec2"
      },
      "execution_count": null,
      "outputs": [
        {
          "output_type": "stream",
          "name": "stdout",
          "text": [
            "1\n"
          ]
        }
      ]
    },
    {
      "cell_type": "code",
      "source": [
        "# 15)  Write a code to create a tuple containing three different fruits and check if \"kiwi\" is in it?\n",
        "\n",
        "tup=(\"papaya\",\"orange\",\"kiwi\")\n",
        "search_word=\"kiwi\"\n",
        "if search_word in tup:\n",
        "  print(f\"{search_word} is present in the tuple\")\n",
        "else:\n",
        "  print(f\"{search_word} is not present in the tuple\")\n",
        "\n"
      ],
      "metadata": {
        "colab": {
          "base_uri": "https://localhost:8080/"
        },
        "id": "AejMPLwj6agT",
        "outputId": "04d489a1-8283-459f-cb51-6a7a77ae7c76"
      },
      "execution_count": null,
      "outputs": [
        {
          "output_type": "stream",
          "name": "stdout",
          "text": [
            "kiwi is present in the tuple\n"
          ]
        }
      ]
    },
    {
      "cell_type": "code",
      "source": [
        "# 16)  Write a code to create a set with the elements 'a', 'b', 'c' and print it?\n",
        "\n",
        "set1={'a', 'b', 'c'}\n",
        "print(set1)\n",
        "#or\n",
        "for i in set1:\n",
        "  print(i,end=' ')"
      ],
      "metadata": {
        "colab": {
          "base_uri": "https://localhost:8080/"
        },
        "id": "3O1cekZv7D8S",
        "outputId": "759aed3d-444b-4e80-c7d0-dae8068b9599"
      },
      "execution_count": null,
      "outputs": [
        {
          "output_type": "stream",
          "name": "stdout",
          "text": [
            "{'b', 'a', 'c'}\n",
            "b a c "
          ]
        }
      ]
    },
    {
      "cell_type": "code",
      "source": [
        "# 17)  Write a code to clear all elements from the set {1, 2, 3, 4, 5}?\n",
        "\n",
        "set1={1, 2, 3, 4, 5}\n",
        "set1.clear()\n",
        "print(set1)"
      ],
      "metadata": {
        "colab": {
          "base_uri": "https://localhost:8080/"
        },
        "id": "WBSxNyH17Vwx",
        "outputId": "534d1e84-92fa-43a5-c791-20c68c4a072b"
      },
      "execution_count": null,
      "outputs": [
        {
          "output_type": "stream",
          "name": "stdout",
          "text": [
            "set()\n"
          ]
        }
      ]
    },
    {
      "cell_type": "code",
      "source": [
        "# 18)  Write a code to remove the element 4 from the set {1, 2, 3, 4}?\n",
        "\n",
        "set1={1, 2, 3, 4}\n",
        "set1.remove(4)\n",
        "print(set1)"
      ],
      "metadata": {
        "colab": {
          "base_uri": "https://localhost:8080/"
        },
        "id": "uEHmAv0O7r3H",
        "outputId": "64bef936-dbfb-4156-a592-0a4eb02692ac"
      },
      "execution_count": null,
      "outputs": [
        {
          "output_type": "stream",
          "name": "stdout",
          "text": [
            "{1, 2, 3}\n"
          ]
        }
      ]
    },
    {
      "cell_type": "code",
      "source": [
        "# 19)  Write a code to find the union of two sets {1, 2, 3} and {3, 4, 5}?\n",
        "\n",
        "set1={1, 2, 3}\n",
        "set2={3, 4, 5}\n",
        "\n",
        "union_set=(set1|set2)\n",
        "print(union_set)"
      ],
      "metadata": {
        "colab": {
          "base_uri": "https://localhost:8080/"
        },
        "id": "U_fzgiuG78m5",
        "outputId": "3a6c6590-84f5-4313-a4ab-4b68db5e885f"
      },
      "execution_count": null,
      "outputs": [
        {
          "output_type": "stream",
          "name": "stdout",
          "text": [
            "{1, 2, 3, 4, 5}\n"
          ]
        }
      ]
    },
    {
      "cell_type": "code",
      "source": [
        "# 20) Write a code to find the intersection of two sets {1, 2, 3} and {2, 3, 4}?\n",
        "\n",
        "set1={1, 2, 3}\n",
        "set2={2, 3, 4}\n",
        "\n",
        "intersection_set=set1.intersection(set2)\n",
        "print(intersection_set)\n",
        "#or\n",
        "# intersection_set=(set1&set2)\n",
        "# print(intersection_set)\n"
      ],
      "metadata": {
        "colab": {
          "base_uri": "https://localhost:8080/"
        },
        "id": "WBUjy5Lo8hxC",
        "outputId": "c91ca3d1-e39a-40f2-d501-310e8fd3f5f6"
      },
      "execution_count": null,
      "outputs": [
        {
          "output_type": "stream",
          "name": "stdout",
          "text": [
            "{2, 3}\n"
          ]
        }
      ]
    },
    {
      "cell_type": "code",
      "source": [
        "# 21)  Write a code to create a dictionary with the keys \"name\", \"age\", and \"city\", and print it?\n",
        "\n",
        "dic1={\"name\":\"shaik moulali\",\"age\":25,\"city\":\"Guntur\"}\n",
        "for i in dic1.items():\n",
        "  print(i)\n",
        "\n",
        "\n"
      ],
      "metadata": {
        "colab": {
          "base_uri": "https://localhost:8080/"
        },
        "id": "cke6hzqv9EgU",
        "outputId": "9b77cecf-2e8f-404f-ee47-34fa88dd2c23"
      },
      "execution_count": null,
      "outputs": [
        {
          "output_type": "stream",
          "name": "stdout",
          "text": [
            "('name', 'shaik moulali')\n",
            "('age', 25)\n",
            "('city', 'Guntur')\n"
          ]
        }
      ]
    },
    {
      "cell_type": "code",
      "source": [
        "# 22) Write a code to add a new key-value pair \"country\": \"USA\" to the dictionary {'name': 'John', 'age': 25}?\n",
        "\n",
        "dic1={'name': 'John', 'age': 25}\n",
        "dic1[\"country\"]=\"USA\"\n",
        "# or\n",
        "dic1.update({\"country\":\"USA\"})\n",
        "print(dic1)"
      ],
      "metadata": {
        "colab": {
          "base_uri": "https://localhost:8080/"
        },
        "id": "X22OlnOx-YEt",
        "outputId": "c6a09945-f166-4e29-e1d3-41ddb707f3ec"
      },
      "execution_count": null,
      "outputs": [
        {
          "output_type": "stream",
          "name": "stdout",
          "text": [
            "{'name': 'John', 'age': 25, 'country': 'USA'}\n"
          ]
        }
      ]
    },
    {
      "cell_type": "code",
      "source": [
        "# 23)  Write a code to access the value associated with the key \"name\" in the dictionary {'name': 'Alice', 'age': 30}?\n",
        "\n",
        "dic1={'name': 'Alice', 'age': 30}\n",
        "a=dic1[\"name\"]\n",
        "print(a)\n",
        "# or\n",
        "b=dic1.get(\"name\")\n",
        "print(b)\n",
        "\n",
        "\n"
      ],
      "metadata": {
        "colab": {
          "base_uri": "https://localhost:8080/"
        },
        "id": "L7RoxFka_bLT",
        "outputId": "5ad7dd72-daeb-401c-85b5-edbb6e172cd4"
      },
      "execution_count": null,
      "outputs": [
        {
          "output_type": "stream",
          "name": "stdout",
          "text": [
            "Alice\n",
            "Alice\n"
          ]
        }
      ]
    },
    {
      "cell_type": "code",
      "source": [
        "# 24)  Write a code to remove the key \"age\" from the dictionary {'name': 'Bob', 'age': 22, 'city': 'New York'}?\n",
        "\n",
        "dic1={'name': 'Bob', 'age': 22, 'city': 'New York'}\n",
        "dic1.pop(\"age\")\n",
        "print(dic1)"
      ],
      "metadata": {
        "colab": {
          "base_uri": "https://localhost:8080/"
        },
        "id": "J_DBjhqk_0nb",
        "outputId": "4e076214-85bc-4fd6-a7b1-06be167aeb79"
      },
      "execution_count": null,
      "outputs": [
        {
          "output_type": "stream",
          "name": "stdout",
          "text": [
            "{'name': 'Bob', 'city': 'New York'}\n"
          ]
        }
      ]
    },
    {
      "cell_type": "code",
      "source": [
        "# 25)  Write a code to check if the key \"city\" exists in the dictionary {'name': 'Alice', 'city': 'Paris'}?\n",
        "\n",
        "dic1={'name': 'Alice', 'city': 'Paris'}\n",
        "\n",
        "if \"city\" in dic1.keys():\n",
        "  print(\"city is present in the dictionary\")\n",
        "else:\n",
        "  print(\"it is not present\")"
      ],
      "metadata": {
        "colab": {
          "base_uri": "https://localhost:8080/"
        },
        "id": "OFFkUWLhAeIT",
        "outputId": "be88e376-2e4b-4d27-e1cb-02230abfd14a"
      },
      "execution_count": null,
      "outputs": [
        {
          "output_type": "stream",
          "name": "stdout",
          "text": [
            "city is present in the dictionary\n"
          ]
        }
      ]
    },
    {
      "cell_type": "code",
      "source": [
        "# 26) Write a code to create a list, a tuple, and a dictionary, and print them all?\n",
        "\n",
        "A_list=[1,2,3,4,5]\n",
        "B_tuple=(1,2,3,4,5)\n",
        "c_dictionary={\"name\":\"shaik moulali\",\"age\":25}\n",
        "print(\"List is: \",A_list)\n",
        "print(\"Tuple is: \",B_tuple)\n",
        "print(\"Dictionary is: \",c_dictionary)\n"
      ],
      "metadata": {
        "colab": {
          "base_uri": "https://localhost:8080/"
        },
        "id": "UrDryfkMBEdq",
        "outputId": "886e0cf2-bdaa-4dc5-d012-bf205a400e54"
      },
      "execution_count": null,
      "outputs": [
        {
          "output_type": "stream",
          "name": "stdout",
          "text": [
            "List is:  [1, 2, 3, 4, 5]\n",
            "Tuple is:  (1, 2, 3, 4, 5)\n",
            "Dictionary is:  {'name': 'shaik moulali', 'age': 25}\n"
          ]
        }
      ]
    },
    {
      "cell_type": "code",
      "source": [
        "''' 27) Write a code to create a list of 5 random numbers between 1 and 100, sort it in ascending order, and print the\n",
        "result.(replaced)'''\n",
        "\n",
        "lis=[10,23,0,1,5]\n",
        "a=sorted(lis)\n",
        "print(a)\n",
        "\n"
      ],
      "metadata": {
        "colab": {
          "base_uri": "https://localhost:8080/"
        },
        "id": "R5Qgnb5cB7Hb",
        "outputId": "7f116c73-8d01-45bc-f3c9-478ca4e93993"
      },
      "execution_count": null,
      "outputs": [
        {
          "output_type": "stream",
          "name": "stdout",
          "text": [
            "[0, 1, 5, 10, 23]\n"
          ]
        }
      ]
    },
    {
      "cell_type": "code",
      "source": [
        "# 28)  Write a code to create a list with strings and print the element at the third index?\n",
        "\n",
        "lis=[\"Moulali\",\"Imran\",\"fazal\",\"Asif\",\"Haseeb\"]\n",
        "print(lis[3])\n"
      ],
      "metadata": {
        "colab": {
          "base_uri": "https://localhost:8080/"
        },
        "id": "NpeElj6WCvx6",
        "outputId": "0ff6a630-2f34-459f-a293-3c2e36d373ea"
      },
      "execution_count": null,
      "outputs": [
        {
          "output_type": "stream",
          "name": "stdout",
          "text": [
            "Asif\n"
          ]
        }
      ]
    },
    {
      "cell_type": "code",
      "source": [
        "# 29) Write a code to combine two dictionaries into one and print the result?\n",
        "\n",
        "dic1={\"name\":\"Moulali\",\"age\":25,\"city\":\"Guntur\"}\n",
        "dic2={\"name\":\"Moulali\",\"Graduation\":\"B-tech\"}\n",
        "final_dict=dic1|dic2\n",
        "print(\"combiation of two dictionaries are : \",final_dict)\n",
        "\n"
      ],
      "metadata": {
        "colab": {
          "base_uri": "https://localhost:8080/"
        },
        "id": "_SiACvEPDN7t",
        "outputId": "b6d2b84d-452c-4a52-c4e6-b72f1a7953f8"
      },
      "execution_count": null,
      "outputs": [
        {
          "output_type": "stream",
          "name": "stdout",
          "text": [
            "combiation of two dictionaries are :  {'name': 'Moulali', 'age': 25, 'city': 'Guntur', 'Graduation': 'B-tech'}\n"
          ]
        }
      ]
    },
    {
      "cell_type": "code",
      "source": [
        "# 30)  Write a code to convert a list of strings into a set?\n",
        "\n",
        "lis=[\"Moulali\",\"Imran\",\"fazal\",\"Asif\",\"Haseeb\"]\n",
        "set1=set(lis)\n",
        "print(set1)"
      ],
      "metadata": {
        "colab": {
          "base_uri": "https://localhost:8080/"
        },
        "id": "0TbptD-zDzpS",
        "outputId": "20213534-7f00-4d3a-88c5-1b15a9be552e"
      },
      "execution_count": null,
      "outputs": [
        {
          "output_type": "stream",
          "name": "stdout",
          "text": [
            "{'Moulali', 'Asif', 'Imran', 'fazal', 'Haseeb'}\n"
          ]
        }
      ]
    }
  ]
}